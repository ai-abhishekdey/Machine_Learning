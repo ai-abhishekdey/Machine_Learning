{
 "cells": [
  {
   "cell_type": "markdown",
   "id": "10e62e8b",
   "metadata": {},
   "source": [
    "### Experiments: Housing Price Estimation"
   ]
  },
  {
   "cell_type": "markdown",
   "id": "7c57cbb4",
   "metadata": {},
   "source": [
    "### Import packages"
   ]
  },
  {
   "cell_type": "code",
   "execution_count": 1,
   "id": "3c7c0698",
   "metadata": {},
   "outputs": [],
   "source": [
    "import pandas as pd\n",
    "import mlflow\n",
    "from sklearn.linear_model import LinearRegression\n",
    "from sklearn.model_selection import train_test_split"
   ]
  },
  {
   "cell_type": "markdown",
   "id": "b1c9d900",
   "metadata": {},
   "source": [
    "### Data ingestion"
   ]
  },
  {
   "cell_type": "code",
   "execution_count": 2,
   "id": "70537fcf",
   "metadata": {},
   "outputs": [],
   "source": [
    "df=pd.read_csv(\"../data/Housing.csv\")"
   ]
  },
  {
   "cell_type": "code",
   "execution_count": 3,
   "id": "efd0713b",
   "metadata": {},
   "outputs": [
    {
     "data": {
      "text/html": [
       "<div>\n",
       "<style scoped>\n",
       "    .dataframe tbody tr th:only-of-type {\n",
       "        vertical-align: middle;\n",
       "    }\n",
       "\n",
       "    .dataframe tbody tr th {\n",
       "        vertical-align: top;\n",
       "    }\n",
       "\n",
       "    .dataframe thead th {\n",
       "        text-align: right;\n",
       "    }\n",
       "</style>\n",
       "<table border=\"1\" class=\"dataframe\">\n",
       "  <thead>\n",
       "    <tr style=\"text-align: right;\">\n",
       "      <th></th>\n",
       "      <th>id</th>\n",
       "      <th>date</th>\n",
       "      <th>price</th>\n",
       "      <th>bedrooms</th>\n",
       "      <th>bathrooms</th>\n",
       "      <th>sqft_living</th>\n",
       "      <th>sqft_lot</th>\n",
       "      <th>floors</th>\n",
       "      <th>waterfront</th>\n",
       "      <th>view</th>\n",
       "      <th>...</th>\n",
       "      <th>grade</th>\n",
       "      <th>sqft_above</th>\n",
       "      <th>sqft_basement</th>\n",
       "      <th>yr_built</th>\n",
       "      <th>yr_renovated</th>\n",
       "      <th>zipcode</th>\n",
       "      <th>lat</th>\n",
       "      <th>long</th>\n",
       "      <th>sqft_living15</th>\n",
       "      <th>sqft_lot15</th>\n",
       "    </tr>\n",
       "  </thead>\n",
       "  <tbody>\n",
       "    <tr>\n",
       "      <th>0</th>\n",
       "      <td>7229300521</td>\n",
       "      <td>20141013T000000</td>\n",
       "      <td>231300.0</td>\n",
       "      <td>2</td>\n",
       "      <td>1.00</td>\n",
       "      <td>1180</td>\n",
       "      <td>5650</td>\n",
       "      <td>1.0</td>\n",
       "      <td>0</td>\n",
       "      <td>0</td>\n",
       "      <td>...</td>\n",
       "      <td>7</td>\n",
       "      <td>1180</td>\n",
       "      <td>0</td>\n",
       "      <td>1955</td>\n",
       "      <td>0</td>\n",
       "      <td>98178</td>\n",
       "      <td>47.5112</td>\n",
       "      <td>-122.257</td>\n",
       "      <td>1340</td>\n",
       "      <td>5650</td>\n",
       "    </tr>\n",
       "    <tr>\n",
       "      <th>1</th>\n",
       "      <td>6414100192</td>\n",
       "      <td>20141209T000000</td>\n",
       "      <td>538000.0</td>\n",
       "      <td>3</td>\n",
       "      <td>2.25</td>\n",
       "      <td>2570</td>\n",
       "      <td>7242</td>\n",
       "      <td>2.0</td>\n",
       "      <td>0</td>\n",
       "      <td>0</td>\n",
       "      <td>...</td>\n",
       "      <td>7</td>\n",
       "      <td>2170</td>\n",
       "      <td>400</td>\n",
       "      <td>1951</td>\n",
       "      <td>1991</td>\n",
       "      <td>98125</td>\n",
       "      <td>47.7210</td>\n",
       "      <td>-122.319</td>\n",
       "      <td>1690</td>\n",
       "      <td>7639</td>\n",
       "    </tr>\n",
       "    <tr>\n",
       "      <th>2</th>\n",
       "      <td>5631500400</td>\n",
       "      <td>20150225T000000</td>\n",
       "      <td>180000.0</td>\n",
       "      <td>2</td>\n",
       "      <td>1.00</td>\n",
       "      <td>770</td>\n",
       "      <td>10000</td>\n",
       "      <td>1.0</td>\n",
       "      <td>0</td>\n",
       "      <td>0</td>\n",
       "      <td>...</td>\n",
       "      <td>6</td>\n",
       "      <td>770</td>\n",
       "      <td>0</td>\n",
       "      <td>1933</td>\n",
       "      <td>0</td>\n",
       "      <td>98028</td>\n",
       "      <td>47.7379</td>\n",
       "      <td>-122.233</td>\n",
       "      <td>2720</td>\n",
       "      <td>8062</td>\n",
       "    </tr>\n",
       "    <tr>\n",
       "      <th>3</th>\n",
       "      <td>2487200875</td>\n",
       "      <td>20141209T000000</td>\n",
       "      <td>604000.0</td>\n",
       "      <td>4</td>\n",
       "      <td>3.00</td>\n",
       "      <td>1960</td>\n",
       "      <td>5000</td>\n",
       "      <td>1.0</td>\n",
       "      <td>0</td>\n",
       "      <td>0</td>\n",
       "      <td>...</td>\n",
       "      <td>7</td>\n",
       "      <td>1050</td>\n",
       "      <td>910</td>\n",
       "      <td>1965</td>\n",
       "      <td>0</td>\n",
       "      <td>98136</td>\n",
       "      <td>47.5208</td>\n",
       "      <td>-122.393</td>\n",
       "      <td>1360</td>\n",
       "      <td>5000</td>\n",
       "    </tr>\n",
       "    <tr>\n",
       "      <th>4</th>\n",
       "      <td>1954400510</td>\n",
       "      <td>20150218T000000</td>\n",
       "      <td>510000.0</td>\n",
       "      <td>3</td>\n",
       "      <td>2.00</td>\n",
       "      <td>1680</td>\n",
       "      <td>8080</td>\n",
       "      <td>1.0</td>\n",
       "      <td>0</td>\n",
       "      <td>0</td>\n",
       "      <td>...</td>\n",
       "      <td>8</td>\n",
       "      <td>1680</td>\n",
       "      <td>0</td>\n",
       "      <td>1987</td>\n",
       "      <td>0</td>\n",
       "      <td>98074</td>\n",
       "      <td>47.6168</td>\n",
       "      <td>-122.045</td>\n",
       "      <td>1800</td>\n",
       "      <td>7503</td>\n",
       "    </tr>\n",
       "  </tbody>\n",
       "</table>\n",
       "<p>5 rows × 21 columns</p>\n",
       "</div>"
      ],
      "text/plain": [
       "           id             date     price  bedrooms  bathrooms  sqft_living  \\\n",
       "0  7229300521  20141013T000000  231300.0         2       1.00         1180   \n",
       "1  6414100192  20141209T000000  538000.0         3       2.25         2570   \n",
       "2  5631500400  20150225T000000  180000.0         2       1.00          770   \n",
       "3  2487200875  20141209T000000  604000.0         4       3.00         1960   \n",
       "4  1954400510  20150218T000000  510000.0         3       2.00         1680   \n",
       "\n",
       "   sqft_lot  floors  waterfront  view  ...  grade  sqft_above  sqft_basement  \\\n",
       "0      5650     1.0           0     0  ...      7        1180              0   \n",
       "1      7242     2.0           0     0  ...      7        2170            400   \n",
       "2     10000     1.0           0     0  ...      6         770              0   \n",
       "3      5000     1.0           0     0  ...      7        1050            910   \n",
       "4      8080     1.0           0     0  ...      8        1680              0   \n",
       "\n",
       "   yr_built  yr_renovated  zipcode      lat     long  sqft_living15  \\\n",
       "0      1955             0    98178  47.5112 -122.257           1340   \n",
       "1      1951          1991    98125  47.7210 -122.319           1690   \n",
       "2      1933             0    98028  47.7379 -122.233           2720   \n",
       "3      1965             0    98136  47.5208 -122.393           1360   \n",
       "4      1987             0    98074  47.6168 -122.045           1800   \n",
       "\n",
       "   sqft_lot15  \n",
       "0        5650  \n",
       "1        7639  \n",
       "2        8062  \n",
       "3        5000  \n",
       "4        7503  \n",
       "\n",
       "[5 rows x 21 columns]"
      ]
     },
     "execution_count": 3,
     "metadata": {},
     "output_type": "execute_result"
    }
   ],
   "source": [
    "df.head()"
   ]
  },
  {
   "cell_type": "code",
   "execution_count": 4,
   "id": "797c8484",
   "metadata": {},
   "outputs": [
    {
     "data": {
      "text/plain": [
       "(21613, 21)"
      ]
     },
     "execution_count": 4,
     "metadata": {},
     "output_type": "execute_result"
    }
   ],
   "source": [
    "df.shape"
   ]
  },
  {
   "cell_type": "code",
   "execution_count": 18,
   "id": "585d2930",
   "metadata": {},
   "outputs": [
    {
     "name": "stdout",
     "output_type": "stream",
     "text": [
      "<class 'pandas.core.frame.DataFrame'>\n",
      "RangeIndex: 21613 entries, 0 to 21612\n",
      "Data columns (total 21 columns):\n",
      " #   Column         Non-Null Count  Dtype  \n",
      "---  ------         --------------  -----  \n",
      " 0   id             21613 non-null  int64  \n",
      " 1   date           21613 non-null  object \n",
      " 2   price          21613 non-null  float64\n",
      " 3   bedrooms       21613 non-null  int64  \n",
      " 4   bathrooms      21613 non-null  float64\n",
      " 5   sqft_living    21613 non-null  int64  \n",
      " 6   sqft_lot       21613 non-null  int64  \n",
      " 7   floors         21613 non-null  float64\n",
      " 8   waterfront     21613 non-null  int64  \n",
      " 9   view           21613 non-null  int64  \n",
      " 10  condition      21613 non-null  int64  \n",
      " 11  grade          21613 non-null  int64  \n",
      " 12  sqft_above     21613 non-null  int64  \n",
      " 13  sqft_basement  21613 non-null  int64  \n",
      " 14  yr_built       21613 non-null  int64  \n",
      " 15  yr_renovated   21613 non-null  int64  \n",
      " 16  zipcode        21613 non-null  int64  \n",
      " 17  lat            21613 non-null  float64\n",
      " 18  long           21613 non-null  float64\n",
      " 19  sqft_living15  21613 non-null  int64  \n",
      " 20  sqft_lot15     21613 non-null  int64  \n",
      "dtypes: float64(5), int64(15), object(1)\n",
      "memory usage: 3.5+ MB\n"
     ]
    }
   ],
   "source": [
    "df.info()"
   ]
  },
  {
   "cell_type": "markdown",
   "id": "dfd86198",
   "metadata": {},
   "source": [
    "### Select useful features"
   ]
  },
  {
   "cell_type": "code",
   "execution_count": 67,
   "id": "63e972e1",
   "metadata": {},
   "outputs": [],
   "source": [
    "\n",
    "selected_columns=['grade', 'zipcode', 'lat', 'long', 'sqft_living', 'sqft_living15', 'sqft_lot', 'sqft_lot15', 'sqft_above', 'sqft_basement', 'bedrooms', 'bathrooms', 'floors', 'waterfront', 'view', 'condition', 'yr_built', 'yr_renovated']\n",
    "\n",
    "X=df[selected_columns]"
   ]
  },
  {
   "cell_type": "code",
   "execution_count": 68,
   "id": "fb4bded8",
   "metadata": {},
   "outputs": [
    {
     "data": {
      "text/html": [
       "<div>\n",
       "<style scoped>\n",
       "    .dataframe tbody tr th:only-of-type {\n",
       "        vertical-align: middle;\n",
       "    }\n",
       "\n",
       "    .dataframe tbody tr th {\n",
       "        vertical-align: top;\n",
       "    }\n",
       "\n",
       "    .dataframe thead th {\n",
       "        text-align: right;\n",
       "    }\n",
       "</style>\n",
       "<table border=\"1\" class=\"dataframe\">\n",
       "  <thead>\n",
       "    <tr style=\"text-align: right;\">\n",
       "      <th></th>\n",
       "      <th>grade</th>\n",
       "      <th>zipcode</th>\n",
       "      <th>lat</th>\n",
       "      <th>long</th>\n",
       "      <th>sqft_living</th>\n",
       "      <th>sqft_living15</th>\n",
       "      <th>sqft_lot</th>\n",
       "      <th>sqft_lot15</th>\n",
       "      <th>sqft_above</th>\n",
       "      <th>sqft_basement</th>\n",
       "      <th>bedrooms</th>\n",
       "      <th>bathrooms</th>\n",
       "      <th>floors</th>\n",
       "      <th>waterfront</th>\n",
       "      <th>view</th>\n",
       "      <th>condition</th>\n",
       "      <th>yr_built</th>\n",
       "      <th>yr_renovated</th>\n",
       "    </tr>\n",
       "  </thead>\n",
       "  <tbody>\n",
       "    <tr>\n",
       "      <th>0</th>\n",
       "      <td>7</td>\n",
       "      <td>98178</td>\n",
       "      <td>47.5112</td>\n",
       "      <td>-122.257</td>\n",
       "      <td>1180</td>\n",
       "      <td>1340</td>\n",
       "      <td>5650</td>\n",
       "      <td>5650</td>\n",
       "      <td>1180</td>\n",
       "      <td>0</td>\n",
       "      <td>2</td>\n",
       "      <td>1.00</td>\n",
       "      <td>1.0</td>\n",
       "      <td>0</td>\n",
       "      <td>0</td>\n",
       "      <td>3</td>\n",
       "      <td>1955</td>\n",
       "      <td>0</td>\n",
       "    </tr>\n",
       "    <tr>\n",
       "      <th>1</th>\n",
       "      <td>7</td>\n",
       "      <td>98125</td>\n",
       "      <td>47.7210</td>\n",
       "      <td>-122.319</td>\n",
       "      <td>2570</td>\n",
       "      <td>1690</td>\n",
       "      <td>7242</td>\n",
       "      <td>7639</td>\n",
       "      <td>2170</td>\n",
       "      <td>400</td>\n",
       "      <td>3</td>\n",
       "      <td>2.25</td>\n",
       "      <td>2.0</td>\n",
       "      <td>0</td>\n",
       "      <td>0</td>\n",
       "      <td>3</td>\n",
       "      <td>1951</td>\n",
       "      <td>1991</td>\n",
       "    </tr>\n",
       "    <tr>\n",
       "      <th>2</th>\n",
       "      <td>6</td>\n",
       "      <td>98028</td>\n",
       "      <td>47.7379</td>\n",
       "      <td>-122.233</td>\n",
       "      <td>770</td>\n",
       "      <td>2720</td>\n",
       "      <td>10000</td>\n",
       "      <td>8062</td>\n",
       "      <td>770</td>\n",
       "      <td>0</td>\n",
       "      <td>2</td>\n",
       "      <td>1.00</td>\n",
       "      <td>1.0</td>\n",
       "      <td>0</td>\n",
       "      <td>0</td>\n",
       "      <td>3</td>\n",
       "      <td>1933</td>\n",
       "      <td>0</td>\n",
       "    </tr>\n",
       "    <tr>\n",
       "      <th>3</th>\n",
       "      <td>7</td>\n",
       "      <td>98136</td>\n",
       "      <td>47.5208</td>\n",
       "      <td>-122.393</td>\n",
       "      <td>1960</td>\n",
       "      <td>1360</td>\n",
       "      <td>5000</td>\n",
       "      <td>5000</td>\n",
       "      <td>1050</td>\n",
       "      <td>910</td>\n",
       "      <td>4</td>\n",
       "      <td>3.00</td>\n",
       "      <td>1.0</td>\n",
       "      <td>0</td>\n",
       "      <td>0</td>\n",
       "      <td>5</td>\n",
       "      <td>1965</td>\n",
       "      <td>0</td>\n",
       "    </tr>\n",
       "    <tr>\n",
       "      <th>4</th>\n",
       "      <td>8</td>\n",
       "      <td>98074</td>\n",
       "      <td>47.6168</td>\n",
       "      <td>-122.045</td>\n",
       "      <td>1680</td>\n",
       "      <td>1800</td>\n",
       "      <td>8080</td>\n",
       "      <td>7503</td>\n",
       "      <td>1680</td>\n",
       "      <td>0</td>\n",
       "      <td>3</td>\n",
       "      <td>2.00</td>\n",
       "      <td>1.0</td>\n",
       "      <td>0</td>\n",
       "      <td>0</td>\n",
       "      <td>3</td>\n",
       "      <td>1987</td>\n",
       "      <td>0</td>\n",
       "    </tr>\n",
       "  </tbody>\n",
       "</table>\n",
       "</div>"
      ],
      "text/plain": [
       "   grade  zipcode      lat     long  sqft_living  sqft_living15  sqft_lot  \\\n",
       "0      7    98178  47.5112 -122.257         1180           1340      5650   \n",
       "1      7    98125  47.7210 -122.319         2570           1690      7242   \n",
       "2      6    98028  47.7379 -122.233          770           2720     10000   \n",
       "3      7    98136  47.5208 -122.393         1960           1360      5000   \n",
       "4      8    98074  47.6168 -122.045         1680           1800      8080   \n",
       "\n",
       "   sqft_lot15  sqft_above  sqft_basement  bedrooms  bathrooms  floors  \\\n",
       "0        5650        1180              0         2       1.00     1.0   \n",
       "1        7639        2170            400         3       2.25     2.0   \n",
       "2        8062         770              0         2       1.00     1.0   \n",
       "3        5000        1050            910         4       3.00     1.0   \n",
       "4        7503        1680              0         3       2.00     1.0   \n",
       "\n",
       "   waterfront  view  condition  yr_built  yr_renovated  \n",
       "0           0     0          3      1955             0  \n",
       "1           0     0          3      1951          1991  \n",
       "2           0     0          3      1933             0  \n",
       "3           0     0          5      1965             0  \n",
       "4           0     0          3      1987             0  "
      ]
     },
     "execution_count": 68,
     "metadata": {},
     "output_type": "execute_result"
    }
   ],
   "source": [
    "X.head()"
   ]
  },
  {
   "cell_type": "markdown",
   "id": "a05bbbde",
   "metadata": {},
   "source": [
    "### Select target "
   ]
  },
  {
   "cell_type": "code",
   "execution_count": 69,
   "id": "ce37a577",
   "metadata": {},
   "outputs": [],
   "source": [
    "Y=df[\"price\"]"
   ]
  },
  {
   "cell_type": "code",
   "execution_count": 70,
   "id": "891ba784",
   "metadata": {},
   "outputs": [
    {
     "data": {
      "text/plain": [
       "0    231300.0\n",
       "1    538000.0\n",
       "2    180000.0\n",
       "3    604000.0\n",
       "4    510000.0\n",
       "Name: price, dtype: float64"
      ]
     },
     "execution_count": 70,
     "metadata": {},
     "output_type": "execute_result"
    }
   ],
   "source": [
    "Y.head()"
   ]
  },
  {
   "cell_type": "markdown",
   "id": "b990b2da",
   "metadata": {},
   "source": [
    "### Train-Test split"
   ]
  },
  {
   "cell_type": "code",
   "execution_count": 71,
   "id": "6169c22f",
   "metadata": {},
   "outputs": [],
   "source": [
    "x_train,x_test, y_train, y_test = train_test_split(X,Y, test_size=0.2, random_state=42)"
   ]
  },
  {
   "cell_type": "code",
   "execution_count": 72,
   "id": "9799ff70",
   "metadata": {},
   "outputs": [
    {
     "name": "stdout",
     "output_type": "stream",
     "text": [
      "(17290, 18) (4323, 18)\n"
     ]
    }
   ],
   "source": [
    "print(x_train.shape, x_test.shape)"
   ]
  },
  {
   "cell_type": "markdown",
   "id": "6505e5ab",
   "metadata": {},
   "source": [
    "### Standard Scaling"
   ]
  },
  {
   "cell_type": "code",
   "execution_count": 73,
   "id": "9048fc2d",
   "metadata": {},
   "outputs": [],
   "source": [
    "from sklearn.preprocessing import StandardScaler\n",
    "\n",
    "# Standardize features\n",
    "scaler = StandardScaler()\n",
    "x_train = scaler.fit_transform(x_train)\n",
    "x_test = scaler.transform(x_test)"
   ]
  },
  {
   "cell_type": "markdown",
   "id": "afb445d2",
   "metadata": {},
   "source": [
    "### Linear Regression Model training and evaluation"
   ]
  },
  {
   "cell_type": "code",
   "execution_count": 74,
   "id": "c249b64e",
   "metadata": {},
   "outputs": [
    {
     "name": "stdout",
     "output_type": "stream",
     "text": [
      "RMSE: 212539.4719\n",
      "R² Score: 0.7012\n"
     ]
    },
    {
     "name": "stderr",
     "output_type": "stream",
     "text": [
      "Registered model 'linear_regression_model' already exists. Creating a new version of this model...\n",
      "2025/10/05 21:33:14 INFO mlflow.store.model_registry.abstract_store: Waiting up to 300 seconds for model version to finish creation. Model name: linear_regression_model, version 9\n"
     ]
    },
    {
     "name": "stdout",
     "output_type": "stream",
     "text": [
      "🏃 View run run8_linear_regression at: http://127.0.0.1:5000/#/experiments/306186249389733772/runs/c49c6a13524741cab0b8c1d49288faf6\n",
      "🧪 View experiment at: http://127.0.0.1:5000/#/experiments/306186249389733772\n",
      "✅ run8_linear_regression completed. Run ID: c49c6a13524741cab0b8c1d49288faf6, Artifact path: linear_regression_8\n",
      "✅ Model registered as 'linear_regression_model' in MLflow Model Registry\n"
     ]
    },
    {
     "name": "stderr",
     "output_type": "stream",
     "text": [
      "Created version '9' of model 'linear_regression_model'.\n"
     ]
    }
   ],
   "source": [
    "import mlflow\n",
    "from mlflow.tracking import MlflowClient\n",
    "from sklearn.linear_model import LinearRegression\n",
    "from sklearn.metrics import mean_squared_error, r2_score\n",
    "import numpy as np\n",
    "\n",
    "# ===== Set MLflow tracking URI =====\n",
    "mlflow.set_tracking_uri(\"http://127.0.0.1:5000\")\n",
    "\n",
    "# ===== Single experiment for all models =====\n",
    "experiment_name = \"Housing_Price_Experiments\"\n",
    "mlflow.set_experiment(experiment_name)\n",
    "client = MlflowClient()\n",
    "experiment = client.get_experiment_by_name(experiment_name)\n",
    "experiment_id = experiment.experiment_id\n",
    "\n",
    "# ===== Determine next run number for Linear Regression =====\n",
    "runs = client.search_runs([experiment_id], filter_string=\"tags.model_type='linear_regression'\")\n",
    "next_id = len(runs) + 1\n",
    "\n",
    "# ===== Model training =====\n",
    "params = {\"fit_intercept\": True} \n",
    "model = LinearRegression(**params)\n",
    "model.fit(x_train, y_train)\n",
    "y_pred = model.predict(x_test)\n",
    "\n",
    "# ===== Evaluation =====\n",
    "rmse = np.sqrt(mean_squared_error(y_test, y_pred))\n",
    "r2 = r2_score(y_test, y_pred)\n",
    "\n",
    "metrics = {\"rmse\": rmse, \"r2_score\": r2}\n",
    "\n",
    "print(f\"RMSE: {rmse:.4f}\")\n",
    "print(f\"R² Score: {r2:.4f}\")\n",
    "\n",
    "# ===== MLflow Logging & Register Model =====\n",
    "run_name = f\"run{next_id}_linear_regression\"\n",
    "artifact_path = f\"linear_regression_{next_id}\"\n",
    "model_registry_name = \"linear_regression_model\"\n",
    "\n",
    "with mlflow.start_run(run_name=run_name) as run:\n",
    "    mlflow.set_tag(\"model_type\", \"linear_regression\")\n",
    "    mlflow.log_params(params)\n",
    "    mlflow.log_param(\"selected_columns\", selected_columns)\n",
    "    mlflow.log_metrics(metrics)\n",
    "    \n",
    "    mlflow.sklearn.log_model(\n",
    "        sk_model=model,\n",
    "        name=artifact_path,\n",
    "        registered_model_name=model_registry_name,\n",
    "        input_example=x_test[:5]\n",
    "    )\n",
    "\n",
    "print(f\"✅ {run_name} completed. Run ID: {run.info.run_id}, Artifact path: {artifact_path}\")\n",
    "print(f\"✅ Model registered as '{model_registry_name}' in MLflow Model Registry\")\n"
   ]
  },
  {
   "cell_type": "markdown",
   "id": "7fb269e5",
   "metadata": {},
   "source": [
    "## Find best model"
   ]
  },
  {
   "cell_type": "code",
   "execution_count": 77,
   "id": "c5e7587d",
   "metadata": {},
   "outputs": [
    {
     "name": "stdout",
     "output_type": "stream",
     "text": [
      "Run ID: c49c6a13524741cab0b8c1d49288faf6\n",
      "Run Name: run8_linear_regression\n",
      "Model Type: linear_regression\n",
      "r2_score: 0.7011905706891426\n",
      "rmse: 212539.47189772307\n",
      "------\n",
      "Run ID: d99c5220330e4877b7c5fd2a59ff5fd7\n",
      "Run Name: run7_linear_regression\n",
      "Model Type: linear_regression\n",
      "r2_score: 0.7009344347424026\n",
      "rmse: 212630.54555938562\n",
      "------\n",
      "Run ID: c664998ebdd64f658507e4f11aaf3254\n",
      "Run Name: run5_linear_regression\n",
      "Model Type: linear_regression\n",
      "r2_score: 0.6954760300708114\n",
      "rmse: 214562.18813505\n",
      "------\n",
      "Run ID: 06a80da2bc0446419d75c96dc6d4298b\n",
      "Run Name: run4_linear_regression\n",
      "Model Type: linear_regression\n",
      "r2_score: 0.6721259411184505\n",
      "rmse: 222636.30040050446\n",
      "------\n",
      "Run ID: fa9560f99f7548f3b1be58c81d0f267b\n",
      "Run Name: run6_linear_regression\n",
      "Model Type: linear_regression\n",
      "r2_score: 0.6541875978737806\n",
      "rmse: 228645.537920791\n",
      "------\n",
      "Run ID: e6dd9ef75a434537b0cd7d50d67254d1\n",
      "Run Name: run3_linear_regression\n",
      "Model Type: linear_regression\n",
      "r2_score: 0.6240433333683575\n",
      "rmse: 238402.79531167154\n",
      "------\n",
      "Run ID: a96f67638ed64fbc90da583805c22904\n",
      "Run Name: run2_linear_regression\n",
      "Model Type: linear_regression\n",
      "r2_score: 0.6230950376231204\n",
      "rmse: 238703.27405678976\n",
      "------\n",
      "Run ID: 57900f75c0cb4f1a80f17fe051388407\n",
      "Run Name: run1_linear_regression\n",
      "Model Type: linear_regression\n",
      "r2_score: 0.6150416122387232\n",
      "rmse: 241240.0120573906\n",
      "------\n",
      "Best Model: linear_regression\n",
      "Run ID: c49c6a13524741cab0b8c1d49288faf6\n",
      "Run Name: run8_linear_regression\n",
      "r2_score: 0.7011905706891426\n"
     ]
    }
   ],
   "source": [
    "from mlflow.tracking import MlflowClient\n",
    "\n",
    "client = MlflowClient()\n",
    "experiment_name = \"Housing_Price_Experiments\"\n",
    "experiment = client.get_experiment_by_name(experiment_name)\n",
    "experiment_id = experiment.experiment_id\n",
    "\n",
    "# Get all runs\n",
    "runs = client.search_runs([experiment_id], order_by=[\"metrics.r2_score DESC\"])  \n",
    "\n",
    "# Print summary\n",
    "for r in runs:\n",
    "    print(f\"Run ID: {r.info.run_id}\")\n",
    "    print(f\"Run Name: {r.info.run_name}\")\n",
    "    print(f\"Model Type: {r.data.tags.get('model_type')}\")\n",
    "    print(f\"r2_score: {r.data.metrics.get('r2_score')}\")\n",
    "    print(f\"rmse: {r.data.metrics.get('rmse')}\")\n",
    "    print(\"------\")\n",
    "\n",
    "# Extracting the best run\n",
    "\n",
    "best_run = runs[0]\n",
    "best_model_type = best_run.data.tags.get(\"model_type\")\n",
    "best_run_id = best_run.info.run_id\n",
    "best_run_name = best_run.info.run_name\n",
    "best_r2_score = best_run.data.metrics.get(\"r2_score\")\n",
    "\n",
    "print(f\"Best Model: {best_model_type}\")\n",
    "print(f\"Run ID: {best_run_id}\")\n",
    "print(f\"Run Name: {best_run_name}\")\n",
    "print(f\"r2_score: {best_r2_score}\")\n"
   ]
  },
  {
   "cell_type": "code",
   "execution_count": null,
   "id": "44a71e22",
   "metadata": {},
   "outputs": [],
   "source": []
  }
 ],
 "metadata": {
  "kernelspec": {
   "display_name": "ml_env",
   "language": "python",
   "name": "python3"
  },
  "language_info": {
   "codemirror_mode": {
    "name": "ipython",
    "version": 3
   },
   "file_extension": ".py",
   "mimetype": "text/x-python",
   "name": "python",
   "nbconvert_exporter": "python",
   "pygments_lexer": "ipython3",
   "version": "3.10.18"
  }
 },
 "nbformat": 4,
 "nbformat_minor": 5
}
